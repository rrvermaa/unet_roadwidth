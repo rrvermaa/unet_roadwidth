{
 "cells": [
  {
   "cell_type": "code",
   "execution_count": 9,
   "id": "1c63f73b",
   "metadata": {},
   "outputs": [],
   "source": [
    "import os\n",
    "import cv2\n",
    "import numpy as np"
   ]
  },
  {
   "cell_type": "code",
   "execution_count": 2,
   "id": "2247d518",
   "metadata": {},
   "outputs": [],
   "source": [
    "path='./frames/im50.png'\n",
    "img=cv2.imread(path)\n"
   ]
  },
  {
   "cell_type": "code",
   "execution_count": 3,
   "id": "29235bf8",
   "metadata": {
    "scrolled": true
   },
   "outputs": [
    {
     "name": "stderr",
     "output_type": "stream",
     "text": [
      "Warning: Ignoring XDG_SESSION_TYPE=wayland on Gnome. Use QT_QPA_PLATFORM=wayland to run on Wayland anyway.\n"
     ]
    }
   ],
   "source": [
    "import cv2\n",
    "import numpy as np\n",
    "# frame='002.png'\n",
    "path='./frames/im50.png'\n",
    "# load image as grayscale\n",
    "img = cv2.imread(path, cv2.IMREAD_GRAYSCALE)\n",
    "\n",
    "# img = cv2.applyColorMap(img, cv2.COLORMAP_JET)\n",
    "# convert to 3 equal channels (only if img is already 1 channel grayscale)\n",
    "img = cv2.merge((img, img, img))\n",
    "# create 1 pixel red image\n",
    "red = np.zeros((1, 1, 3), np.uint8)\n",
    "red[:] = (0,0,255)\n",
    "\n",
    "# create 1 pixel blue image\n",
    "blue = np.zeros((2, 1, 3), np.uint8)\n",
    "blue[:] = (255,0,0)\n",
    "\n",
    "# append the two images\n",
    "lut = np.concatenate((red, blue), axis=0)\n",
    "\n",
    "# resize lut to 256 values\n",
    "lut = cv2.resize(lut, (1,256), interpolation=cv2.INTER_CUBIC)\n",
    "\n",
    "# apply lut\n",
    "result = cv2.LUT(img, lut)\n",
    "\n",
    "\n",
    "result=cv2.resize(result,(0,0),None, 0.4,0.4)\n",
    "# save result\n",
    "cv2.imwrite('001.png', result)\n",
    "\n",
    "\n",
    "# display result\n",
    "cv2.imshow('RESULT', result)\n",
    "cv2.waitKey(0)\n",
    "cv2.destroyAllWindows()"
   ]
  },
  {
   "cell_type": "code",
   "execution_count": null,
   "id": "be23d74a",
   "metadata": {},
   "outputs": [],
   "source": []
  },
  {
   "cell_type": "code",
   "execution_count": null,
   "id": "151d6b80",
   "metadata": {},
   "outputs": [],
   "source": []
  },
  {
   "cell_type": "code",
   "execution_count": 4,
   "id": "1306956a",
   "metadata": {},
   "outputs": [],
   "source": [
    "def reorder(myPoints):\n",
    "    pts=myPoints.shape\n",
    "    myPointsNew=np.zeros_like(myPoints)\n",
    "    myPoints=myPoints.reshape((pts[0],pts[2]))\n",
    "    add=myPoints.sum(1)\n",
    "    myPointsNew[0]=myPoints[np.argmin(add)]\n",
    "    myPointsNew[3]=myPoints[np.argmax(add)]\n",
    "    \n",
    "    diff=np.diff(myPoints,axis=1)\n",
    "    \n",
    "    myPointsNew[1]=myPoints[np.argmin(diff)]\n",
    "    myPointsNew[2]=myPoints[np.argmax(diff)]\n",
    "    \n",
    "    return myPointsNew\n"
   ]
  },
  {
   "cell_type": "code",
   "execution_count": null,
   "id": "fa7bd5c0",
   "metadata": {},
   "outputs": [
    {
     "name": "stdout",
     "output_type": "stream",
     "text": [
      "1\n",
      "[[[247 122]]\n",
      "\n",
      " [[137 308]]\n",
      "\n",
      " [[114 486]]\n",
      "\n",
      " [[450 546]]\n",
      "\n",
      " [[530 428]]\n",
      "\n",
      " [[474 231]]]\n"
     ]
    }
   ],
   "source": [
    "import numpy as np\n",
    "import cv2\n",
    "from skimage import exposure \n",
    "path='./frames/6.jpeg'\n",
    "\n",
    "# arrange the corridinates\n",
    "def reorder(myPoints):\n",
    "    pts=myPoints.shape\n",
    "    myPointsNew=np.zeros_like(myPoints)\n",
    "    myPoints=myPoints.reshape((pts[0],pts[2]))\n",
    "    add=myPoints.sum(1)\n",
    "    myPointsNew[0]=myPoints[np.argmin(add)]\n",
    "    myPointsNew[3]=myPoints[np.argmax(add)]\n",
    "    \n",
    "    diff=np.diff(myPoints,axis=1)\n",
    "    \n",
    "    myPointsNew[1]=myPoints[np.argmin(diff)]\n",
    "    myPointsNew[2]=myPoints[np.argmax(diff)]\n",
    "    \n",
    "    return myPointsNew\n",
    "\n",
    "# Define the function to get color map\n",
    "def getMap(frame,cThr=[100,100],minArea=20000,filter=0,draw=True):\n",
    "\n",
    "    lab = cv2.cvtColor(frame, cv2.COLOR_BGR2LAB)\n",
    "    a_component = lab[:,:,1]\n",
    "    th = cv2.threshold(a_component,140,255,cv2.THRESH_BINARY)[1]\n",
    "    blur = cv2.GaussianBlur(th,(23,23), 29)\n",
    "    heatmap_img = cv2.applyColorMap(blur, cv2.COLORMAP_JET)\n",
    "    \n",
    "    imgCanny= cv2.Canny(blur,cThr[0],cThr[1])\n",
    "    kernal=np.ones((5,5))\n",
    "    imgDial= cv2.dilate(imgCanny,kernal,iterations=3)\n",
    "    imgThr=cv2.erode(imgDial,kernal,iterations=2)\n",
    "    \n",
    "    contours, hierarchy = cv2.findContours(th, cv2.RETR_EXTERNAL, cv2.CHAIN_APPROX_SIMPLE)\n",
    "    finalCountours=[]\n",
    "    for i in contours:\n",
    "        area =cv2.contourArea(i)\n",
    "        if area >minArea:\n",
    "            peri=cv2.arcLength(i,True)\n",
    "            approx=cv2.approxPolyDP(i,0.02*peri,True)\n",
    "            bbox=cv2.boundingRect(approx)\n",
    "            \n",
    "            if filter >0:\n",
    "                if len(approx)==filter:\n",
    "                    finalCountours.append([len(approx),area,approx,bbox,i])\n",
    "            else:\n",
    "                finalCountours.append([len(approx),area,approx,bbox,i])\n",
    "\n",
    "    finalCountours= sorted(finalCountours,key=lambda x:x[1],reverse=True)\n",
    "    \n",
    "    super_imposed_img = cv2.addWeighted(heatmap_img, 0.5, frame, 0.5, 0)\n",
    "    return super_imposed_img,finalCountours\n",
    "\n",
    "capture = cv2.VideoCapture(path)\n",
    "while True:\n",
    "    ret, frame = capture.read()\n",
    "    scale =3\n",
    "    wroad=210 * scale\n",
    "    hroad=297*scale\n",
    "    \n",
    "    if ret:\n",
    "        # Resize original frame\n",
    "        frame = cv2.resize(frame, (580, 550)) \n",
    "        cam,conts = getMap(frame,minArea=90000,draw=False)\n",
    "        \n",
    "        map_img = exposure.rescale_intensity(cam, out_range=(0, 255))\n",
    "        map_img = np.uint8(map_img)\n",
    "        heatmap_img = cv2.applyColorMap(map_img, cv2.COLORMAP_JET)\n",
    "\n",
    "        # Merge map and frame\n",
    "        fin = cv2.addWeighted(heatmap_img, 0.9, frame, 0.9, 0.1)\n",
    "        print(len(conts))\n",
    "        if len(conts)!=0:\n",
    "            \n",
    "            biggest=conts[0][2]\n",
    "            print(biggest)\n",
    "            cv2.drawContours(frame, [biggest], -1, (0, 0, 255), 2)\n",
    "            cv2.imshow('road',frame)\n",
    "\n",
    "        # save result\n",
    "        cv2.imwrite('00q2.png', fin)\n",
    "        cv2.imshow('frame', fin)\n",
    "        cv2.waitKey(0)\n",
    "\n",
    "        if cv2.waitKey(0) & 0xFF == ord('q'):\n",
    "            break\n",
    "\n",
    "capture.release()\n",
    "cv2.destroyAllWindows()\n"
   ]
  },
  {
   "cell_type": "code",
   "execution_count": null,
   "id": "bc487fdf",
   "metadata": {},
   "outputs": [],
   "source": []
  },
  {
   "cell_type": "code",
   "execution_count": null,
   "id": "a866655f",
   "metadata": {},
   "outputs": [],
   "source": []
  },
  {
   "cell_type": "code",
   "execution_count": null,
   "id": "f53241ab",
   "metadata": {},
   "outputs": [],
   "source": []
  }
 ],
 "metadata": {
  "kernelspec": {
   "display_name": "Python 3 (ipykernel)",
   "language": "python",
   "name": "python3"
  },
  "language_info": {
   "codemirror_mode": {
    "name": "ipython",
    "version": 3
   },
   "file_extension": ".py",
   "mimetype": "text/x-python",
   "name": "python",
   "nbconvert_exporter": "python",
   "pygments_lexer": "ipython3",
   "version": "3.10.12"
  }
 },
 "nbformat": 4,
 "nbformat_minor": 5
}
